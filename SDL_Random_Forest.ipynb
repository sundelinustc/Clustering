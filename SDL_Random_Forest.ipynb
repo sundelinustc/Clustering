{
 "cells": [
  {
   "cell_type": "code",
   "execution_count": 1,
   "metadata": {},
   "outputs": [],
   "source": [
    "# Packages\n",
    "import pandas as pd\n",
    "import numpy as np\n",
    "from sklearn.model_selection import train_test_split\n",
    "from sklearn.ensemble import RandomForestClassifier\n",
    "from sklearn import metrics\n",
    "from sklearn.model_selection import cross_val_score\n",
    "from sklearn.model_selection import GridSearchCV\n",
    "import matplotlib.pyplot as plt\n",
    "import seaborn as sns\n",
    "\n",
    "# references\n",
    "# https://www.datacamp.com/community/tutorials/random-forests-classifier-python\n",
    "# https://towardsdatascience.com/random-forest-in-python-24d0893d51c0"
   ]
  },
  {
   "cell_type": "code",
   "execution_count": 2,
   "metadata": {},
   "outputs": [
    {
     "data": {
      "text/html": [
       "<div>\n",
       "<style scoped>\n",
       "    .dataframe tbody tr th:only-of-type {\n",
       "        vertical-align: middle;\n",
       "    }\n",
       "\n",
       "    .dataframe tbody tr th {\n",
       "        vertical-align: top;\n",
       "    }\n",
       "\n",
       "    .dataframe thead th {\n",
       "        text-align: right;\n",
       "    }\n",
       "</style>\n",
       "<table border=\"1\" class=\"dataframe\">\n",
       "  <thead>\n",
       "    <tr style=\"text-align: right;\">\n",
       "      <th></th>\n",
       "      <th>Scan_ID</th>\n",
       "      <th>Part</th>\n",
       "      <th>head_injury_yes</th>\n",
       "      <th>small_25_50_voxels</th>\n",
       "      <th>medium_50_75_voxels</th>\n",
       "      <th>large_75_100_voxels</th>\n",
       "      <th>Xlarge_100up_voxels</th>\n",
       "    </tr>\n",
       "  </thead>\n",
       "  <tbody>\n",
       "    <tr>\n",
       "      <th>0</th>\n",
       "      <td>21636</td>\n",
       "      <td>2</td>\n",
       "      <td>1</td>\n",
       "      <td>-0.110172</td>\n",
       "      <td>-0.072359</td>\n",
       "      <td>0.145977</td>\n",
       "      <td>-0.018267</td>\n",
       "    </tr>\n",
       "    <tr>\n",
       "      <th>1</th>\n",
       "      <td>23723</td>\n",
       "      <td>2</td>\n",
       "      <td>0</td>\n",
       "      <td>0.204566</td>\n",
       "      <td>0.124844</td>\n",
       "      <td>0.032457</td>\n",
       "      <td>0.010932</td>\n",
       "    </tr>\n",
       "    <tr>\n",
       "      <th>2</th>\n",
       "      <td>23733</td>\n",
       "      <td>2</td>\n",
       "      <td>1</td>\n",
       "      <td>-0.150827</td>\n",
       "      <td>-0.014678</td>\n",
       "      <td>-0.061176</td>\n",
       "      <td>-0.056804</td>\n",
       "    </tr>\n",
       "    <tr>\n",
       "      <th>3</th>\n",
       "      <td>21552</td>\n",
       "      <td>2</td>\n",
       "      <td>1</td>\n",
       "      <td>-0.134841</td>\n",
       "      <td>-0.037175</td>\n",
       "      <td>-0.018770</td>\n",
       "      <td>-0.028511</td>\n",
       "    </tr>\n",
       "    <tr>\n",
       "      <th>4</th>\n",
       "      <td>22549</td>\n",
       "      <td>2</td>\n",
       "      <td>1</td>\n",
       "      <td>0.202032</td>\n",
       "      <td>0.072084</td>\n",
       "      <td>0.081361</td>\n",
       "      <td>0.123569</td>\n",
       "    </tr>\n",
       "  </tbody>\n",
       "</table>\n",
       "</div>"
      ],
      "text/plain": [
       "   Scan_ID  Part  head_injury_yes  small_25_50_voxels  medium_50_75_voxels  \\\n",
       "0    21636     2                1           -0.110172            -0.072359   \n",
       "1    23723     2                0            0.204566             0.124844   \n",
       "2    23733     2                1           -0.150827            -0.014678   \n",
       "3    21552     2                1           -0.134841            -0.037175   \n",
       "4    22549     2                1            0.202032             0.072084   \n",
       "\n",
       "   large_75_100_voxels  Xlarge_100up_voxels  \n",
       "0             0.145977            -0.018267  \n",
       "1             0.032457             0.010932  \n",
       "2            -0.061176            -0.056804  \n",
       "3            -0.018770            -0.028511  \n",
       "4             0.081361             0.123569  "
      ]
     },
     "execution_count": 2,
     "metadata": {},
     "output_type": "execute_result"
    }
   ],
   "source": [
    "# Load data\n",
    "#data   = pd.read_csv('..\\Data\\data2.csv') # larger dataset, for train & test\n",
    "#data_v = pd.read_csv('..\\Data\\data1.csv') # smaller dataset, for validation\n",
    "\n",
    "# brain data regressed out demographic/clinical variables\n",
    "data   = pd.read_csv('..\\Data\\data2_regressed.csv') # larger dataset, for train & test\n",
    "data_v = pd.read_csv('..\\Data\\data1_regressed.csv') # smaller dataset, for validation\n",
    "\n",
    "data.head(5)"
   ]
  },
  {
   "cell_type": "code",
   "execution_count": 3,
   "metadata": {},
   "outputs": [
    {
     "name": "stdout",
     "output_type": "stream",
     "text": [
      "Data shape: (148, 7)\n",
      "Data_v shape: (80, 7)\n"
     ]
    }
   ],
   "source": [
    "print('Data shape:', data.shape)\n",
    "print('Data_v shape:', data_v.shape)"
   ]
  },
  {
   "cell_type": "code",
   "execution_count": 4,
   "metadata": {},
   "outputs": [
    {
     "data": {
      "text/html": [
       "<div>\n",
       "<style scoped>\n",
       "    .dataframe tbody tr th:only-of-type {\n",
       "        vertical-align: middle;\n",
       "    }\n",
       "\n",
       "    .dataframe tbody tr th {\n",
       "        vertical-align: top;\n",
       "    }\n",
       "\n",
       "    .dataframe thead th {\n",
       "        text-align: right;\n",
       "    }\n",
       "</style>\n",
       "<table border=\"1\" class=\"dataframe\">\n",
       "  <thead>\n",
       "    <tr style=\"text-align: right;\">\n",
       "      <th></th>\n",
       "      <th>Scan_ID</th>\n",
       "      <th>Part</th>\n",
       "      <th>head_injury_yes</th>\n",
       "      <th>small_25_50_voxels</th>\n",
       "      <th>medium_50_75_voxels</th>\n",
       "      <th>large_75_100_voxels</th>\n",
       "      <th>Xlarge_100up_voxels</th>\n",
       "    </tr>\n",
       "  </thead>\n",
       "  <tbody>\n",
       "    <tr>\n",
       "      <th>count</th>\n",
       "      <td>1.480000e+02</td>\n",
       "      <td>148.0</td>\n",
       "      <td>148.000000</td>\n",
       "      <td>1.480000e+02</td>\n",
       "      <td>1.480000e+02</td>\n",
       "      <td>1.480000e+02</td>\n",
       "      <td>1.480000e+02</td>\n",
       "    </tr>\n",
       "    <tr>\n",
       "      <th>mean</th>\n",
       "      <td>1.503030e+07</td>\n",
       "      <td>2.0</td>\n",
       "      <td>0.851351</td>\n",
       "      <td>-9.001808e-18</td>\n",
       "      <td>-2.055882e-17</td>\n",
       "      <td>2.037128e-17</td>\n",
       "      <td>3.094372e-17</td>\n",
       "    </tr>\n",
       "    <tr>\n",
       "      <th>std</th>\n",
       "      <td>1.825814e+08</td>\n",
       "      <td>0.0</td>\n",
       "      <td>0.356950</td>\n",
       "      <td>1.541050e-01</td>\n",
       "      <td>1.409271e-01</td>\n",
       "      <td>1.219372e-01</td>\n",
       "      <td>1.383954e-01</td>\n",
       "    </tr>\n",
       "    <tr>\n",
       "      <th>min</th>\n",
       "      <td>2.028000e+04</td>\n",
       "      <td>2.0</td>\n",
       "      <td>0.000000</td>\n",
       "      <td>-3.084357e-01</td>\n",
       "      <td>-2.546484e-01</td>\n",
       "      <td>-2.084114e-01</td>\n",
       "      <td>-2.236282e-01</td>\n",
       "    </tr>\n",
       "    <tr>\n",
       "      <th>25%</th>\n",
       "      <td>2.108200e+04</td>\n",
       "      <td>2.0</td>\n",
       "      <td>1.000000</td>\n",
       "      <td>-9.669684e-02</td>\n",
       "      <td>-8.811159e-02</td>\n",
       "      <td>-6.251904e-02</td>\n",
       "      <td>-6.911550e-02</td>\n",
       "    </tr>\n",
       "    <tr>\n",
       "      <th>50%</th>\n",
       "      <td>2.180400e+04</td>\n",
       "      <td>2.0</td>\n",
       "      <td>1.000000</td>\n",
       "      <td>-1.398837e-02</td>\n",
       "      <td>-2.848425e-02</td>\n",
       "      <td>-2.184739e-02</td>\n",
       "      <td>-2.233897e-02</td>\n",
       "    </tr>\n",
       "    <tr>\n",
       "      <th>75%</th>\n",
       "      <td>2.333475e+04</td>\n",
       "      <td>2.0</td>\n",
       "      <td>1.000000</td>\n",
       "      <td>6.482499e-02</td>\n",
       "      <td>5.991530e-02</td>\n",
       "      <td>3.486005e-02</td>\n",
       "      <td>3.100823e-02</td>\n",
       "    </tr>\n",
       "    <tr>\n",
       "      <th>max</th>\n",
       "      <td>2.221221e+09</td>\n",
       "      <td>2.0</td>\n",
       "      <td>1.000000</td>\n",
       "      <td>6.733560e-01</td>\n",
       "      <td>6.671788e-01</td>\n",
       "      <td>7.460102e-01</td>\n",
       "      <td>8.921467e-01</td>\n",
       "    </tr>\n",
       "  </tbody>\n",
       "</table>\n",
       "</div>"
      ],
      "text/plain": [
       "            Scan_ID   Part  head_injury_yes  small_25_50_voxels  \\\n",
       "count  1.480000e+02  148.0       148.000000        1.480000e+02   \n",
       "mean   1.503030e+07    2.0         0.851351       -9.001808e-18   \n",
       "std    1.825814e+08    0.0         0.356950        1.541050e-01   \n",
       "min    2.028000e+04    2.0         0.000000       -3.084357e-01   \n",
       "25%    2.108200e+04    2.0         1.000000       -9.669684e-02   \n",
       "50%    2.180400e+04    2.0         1.000000       -1.398837e-02   \n",
       "75%    2.333475e+04    2.0         1.000000        6.482499e-02   \n",
       "max    2.221221e+09    2.0         1.000000        6.733560e-01   \n",
       "\n",
       "       medium_50_75_voxels  large_75_100_voxels  Xlarge_100up_voxels  \n",
       "count         1.480000e+02         1.480000e+02         1.480000e+02  \n",
       "mean         -2.055882e-17         2.037128e-17         3.094372e-17  \n",
       "std           1.409271e-01         1.219372e-01         1.383954e-01  \n",
       "min          -2.546484e-01        -2.084114e-01        -2.236282e-01  \n",
       "25%          -8.811159e-02        -6.251904e-02        -6.911550e-02  \n",
       "50%          -2.848425e-02        -2.184739e-02        -2.233897e-02  \n",
       "75%           5.991530e-02         3.486005e-02         3.100823e-02  \n",
       "max           6.671788e-01         7.460102e-01         8.921467e-01  "
      ]
     },
     "execution_count": 4,
     "metadata": {},
     "output_type": "execute_result"
    }
   ],
   "source": [
    "# Descriptive statistics per column\n",
    "data.describe()"
   ]
  },
  {
   "cell_type": "code",
   "execution_count": 5,
   "metadata": {},
   "outputs": [
    {
     "data": {
      "text/html": [
       "<div>\n",
       "<style scoped>\n",
       "    .dataframe tbody tr th:only-of-type {\n",
       "        vertical-align: middle;\n",
       "    }\n",
       "\n",
       "    .dataframe tbody tr th {\n",
       "        vertical-align: top;\n",
       "    }\n",
       "\n",
       "    .dataframe thead th {\n",
       "        text-align: right;\n",
       "    }\n",
       "</style>\n",
       "<table border=\"1\" class=\"dataframe\">\n",
       "  <thead>\n",
       "    <tr style=\"text-align: right;\">\n",
       "      <th></th>\n",
       "      <th>Part</th>\n",
       "      <th>head_injury_yes</th>\n",
       "      <th>small_25_50_voxels</th>\n",
       "      <th>medium_50_75_voxels</th>\n",
       "      <th>large_75_100_voxels</th>\n",
       "      <th>Xlarge_100up_voxels</th>\n",
       "    </tr>\n",
       "  </thead>\n",
       "  <tbody>\n",
       "    <tr>\n",
       "      <th>0</th>\n",
       "      <td>2</td>\n",
       "      <td>1</td>\n",
       "      <td>-0.110172</td>\n",
       "      <td>-0.072359</td>\n",
       "      <td>0.145977</td>\n",
       "      <td>-0.018267</td>\n",
       "    </tr>\n",
       "    <tr>\n",
       "      <th>1</th>\n",
       "      <td>2</td>\n",
       "      <td>0</td>\n",
       "      <td>0.204566</td>\n",
       "      <td>0.124844</td>\n",
       "      <td>0.032457</td>\n",
       "      <td>0.010932</td>\n",
       "    </tr>\n",
       "    <tr>\n",
       "      <th>2</th>\n",
       "      <td>2</td>\n",
       "      <td>1</td>\n",
       "      <td>-0.150827</td>\n",
       "      <td>-0.014678</td>\n",
       "      <td>-0.061176</td>\n",
       "      <td>-0.056804</td>\n",
       "    </tr>\n",
       "    <tr>\n",
       "      <th>3</th>\n",
       "      <td>2</td>\n",
       "      <td>1</td>\n",
       "      <td>-0.134841</td>\n",
       "      <td>-0.037175</td>\n",
       "      <td>-0.018770</td>\n",
       "      <td>-0.028511</td>\n",
       "    </tr>\n",
       "    <tr>\n",
       "      <th>4</th>\n",
       "      <td>2</td>\n",
       "      <td>1</td>\n",
       "      <td>0.202032</td>\n",
       "      <td>0.072084</td>\n",
       "      <td>0.081361</td>\n",
       "      <td>0.123569</td>\n",
       "    </tr>\n",
       "  </tbody>\n",
       "</table>\n",
       "</div>"
      ],
      "text/plain": [
       "   Part  head_injury_yes  small_25_50_voxels  medium_50_75_voxels  \\\n",
       "0     2                1           -0.110172            -0.072359   \n",
       "1     2                0            0.204566             0.124844   \n",
       "2     2                1           -0.150827            -0.014678   \n",
       "3     2                1           -0.134841            -0.037175   \n",
       "4     2                1            0.202032             0.072084   \n",
       "\n",
       "   large_75_100_voxels  Xlarge_100up_voxels  \n",
       "0             0.145977            -0.018267  \n",
       "1             0.032457             0.010932  \n",
       "2            -0.061176            -0.056804  \n",
       "3            -0.018770            -0.028511  \n",
       "4             0.081361             0.123569  "
      ]
     },
     "execution_count": 5,
     "metadata": {},
     "output_type": "execute_result"
    }
   ],
   "source": [
    "# One-hot encoding (NOT NECESSARY HERE)\n",
    "data   = pd.get_dummies(data)\n",
    "data_v = pd.get_dummies(data_v)\n",
    "data.iloc[:,1:].head(5)"
   ]
  },
  {
   "cell_type": "code",
   "execution_count": 6,
   "metadata": {},
   "outputs": [],
   "source": [
    "# split data into Y and X\n",
    "\n",
    "# keep labels\n",
    "y   = np.array(  data['head_injury_yes'])\n",
    "y_v = np.array(data_v['head_injury_yes'])\n",
    "\n",
    "# remove labels & nuisance variables from data\n",
    "X   = data.drop(  ['Scan_ID', 'Part', 'head_injury_yes'], axis=1) # axis=1 refers to columns\n",
    "X_v = data_v.drop(['Scan_ID', 'Part', 'head_injury_yes'], axis=1) # axis=1 refers to columns\n",
    "\n",
    "# save feature names\n",
    "feature_list = list(X.columns)\n",
    "\n",
    "# convert to numpy array\n",
    "X   = np.array(X)\n",
    "X_v = np.array(X_v)"
   ]
  },
  {
   "cell_type": "code",
   "execution_count": 7,
   "metadata": {},
   "outputs": [],
   "source": [
    "# Split the data into training and testing sets\n",
    "X_train, X_test, y_train, y_test = train_test_split(X, y, test_size = 0.25, random_state = 42)"
   ]
  },
  {
   "cell_type": "code",
   "execution_count": 8,
   "metadata": {},
   "outputs": [
    {
     "name": "stdout",
     "output_type": "stream",
     "text": [
      "Training Features Shape: (111, 4)\n",
      "Training Labels Shape: (111,)\n",
      "Testing Features Shape: (37, 4)\n",
      "Testing Labels Shape: (37,)\n",
      "Validation Features Shape: (80, 4)\n",
      "Validation Labels Shape: (80,)\n"
     ]
    }
   ],
   "source": [
    "print('Training Features Shape:', X_train.shape)\n",
    "print('Training Labels Shape:', y_train.shape)\n",
    "print('Testing Features Shape:', X_test.shape)\n",
    "print('Testing Labels Shape:', y_test.shape)\n",
    "print('Validation Features Shape:', X_v.shape)\n",
    "print('Validation Labels Shape:', y_v.shape)"
   ]
  },
  {
   "cell_type": "code",
   "execution_count": 9,
   "metadata": {},
   "outputs": [],
   "source": [
    "#Create a random forest Classifier\n",
    "clf = RandomForestClassifier(n_estimators=100) # n_estimators refers to the number of decision trees\n",
    "\n",
    "#Train the model using the training sets y_pred=clf.predict(X_test)\n",
    "clf.fit(X_train,y_train)\n",
    "\n",
    "# prediction on test set\n",
    "y_pred = clf.predict(X_test)\n",
    "\n",
    "# prediction on validation set\n",
    "y_v_pred = clf.predict(X_v)"
   ]
  },
  {
   "cell_type": "code",
   "execution_count": 10,
   "metadata": {},
   "outputs": [
    {
     "name": "stdout",
     "output_type": "stream",
     "text": [
      "Accuracy on testing data: 0.7837837837837838\n",
      "Accuracy on validation data: 0.85\n"
     ]
    }
   ],
   "source": [
    "# Model Accuracy, how often is the classifier correct?\n",
    "print(\"Accuracy on testing data:\",   metrics.accuracy_score(y_test, y_pred))\n",
    "print(\"Accuracy on validation data:\",metrics.accuracy_score(y_v, y_v_pred))"
   ]
  },
  {
   "cell_type": "code",
   "execution_count": 11,
   "metadata": {},
   "outputs": [
    {
     "data": {
      "text/plain": [
       "array([0.27227433, 0.21161139, 0.2546285 , 0.26148578])"
      ]
     },
     "execution_count": 11,
     "metadata": {},
     "output_type": "execute_result"
    }
   ],
   "source": [
    "clf.feature_importances_"
   ]
  },
  {
   "cell_type": "code",
   "execution_count": 12,
   "metadata": {},
   "outputs": [
    {
     "data": {
      "text/plain": [
       "small_25_50_voxels     0.272274\n",
       "Xlarge_100up_voxels    0.261486\n",
       "large_75_100_voxels    0.254629\n",
       "medium_50_75_voxels    0.211611\n",
       "dtype: float64"
      ]
     },
     "execution_count": 12,
     "metadata": {},
     "output_type": "execute_result"
    }
   ],
   "source": [
    "# Feature importance\n",
    "feature_imp = pd.Series(clf.feature_importances_, index=feature_list).sort_values(ascending=False)\n",
    "feature_imp"
   ]
  },
  {
   "cell_type": "code",
   "execution_count": 13,
   "metadata": {},
   "outputs": [
    {
     "data": {
      "image/png": "[encoded data removed]",
      "text/plain": [
       "<Figure size 432x288 with 1 Axes>"
      ]
     },
     "metadata": {
      "needs_background": "light"
     },
     "output_type": "display_data"
    }
   ],
   "source": [
    "# Visulization of feature importance\n",
    "\n",
    "%matplotlib inline\n",
    "\n",
    "# Creating a bar plot\n",
    "sns.barplot(x=feature_imp, y=feature_imp.index)\n",
    "# Add labels to your graph\n",
    "plt.xlabel('Feature Importance Score')\n",
    "plt.ylabel('Features')\n",
    "plt.title(\"Visualizing Important Features\")\n",
    "#plt.legend()\n",
    "plt.show()"
   ]
  },
  {
   "cell_type": "code",
   "execution_count": 14,
   "metadata": {},
   "outputs": [
    {
     "name": "stdout",
     "output_type": "stream",
     "text": [
      "0.8196969696969697\n"
     ]
    }
   ],
   "source": [
    "# 10-Fold Cross validation\n",
    "print(np.mean(cross_val_score(clf, X_train, y_train, cv=10)))"
   ]
  },
  {
   "cell_type": "code",
   "execution_count": 15,
   "metadata": {},
   "outputs": [
    {
     "data": {
      "text/plain": [
       "GridSearchCV(cv=10, estimator=RandomForestClassifier(),\n",
       "             param_grid={'max_depth': [2, 5, 8, 10],\n",
       "                         'n_estimators': [50, 100, 150, 200]})"
      ]
     },
     "execution_count": 15,
     "metadata": {},
     "output_type": "execute_result"
    }
   ],
   "source": [
    "# Grid Search\n",
    "param_grid = {\n",
    "                 'n_estimators': [50, 100, 150, 200],\n",
    "                 'max_depth': [2, 5, 8, 10]\n",
    "             }\n",
    "\n",
    "#\n",
    "grid_clf = GridSearchCV(clf, param_grid, cv=10)\n",
    "grid_clf.fit(X_train, y_train)"
   ]
  },
  {
   "cell_type": "code",
   "execution_count": 16,
   "metadata": {},
   "outputs": [
    {
     "data": {
      "text/plain": [
       "RandomForestClassifier(max_depth=2)"
      ]
     },
     "execution_count": 16,
     "metadata": {},
     "output_type": "execute_result"
    }
   ],
   "source": [
    "# best model\n",
    "grid_clf.best_estimator_"
   ]
  },
  {
   "cell_type": "code",
   "execution_count": 17,
   "metadata": {},
   "outputs": [
    {
     "data": {
      "text/plain": [
       "{'max_depth': 2, 'n_estimators': 100}"
      ]
     },
     "execution_count": 17,
     "metadata": {},
     "output_type": "execute_result"
    }
   ],
   "source": [
    "# best hyper-parameters\n",
    "grid_clf. best_params_"
   ]
  },
  {
   "cell_type": "code",
   "execution_count": 18,
   "metadata": {},
   "outputs": [
    {
     "data": {
      "text/plain": [
       "{'mean_fit_time': array([0.05309541, 0.09686701, 0.14526491, 0.19499593, 0.05319519,\n",
       "        0.10307302, 0.15236304, 0.20684621, 0.05188088, 0.10304329,\n",
       "        0.15467346, 0.19949374, 0.05108092, 0.10779908, 0.15318351,\n",
       "        0.19841757]),\n",
       " 'std_fit_time': array([0.00529043, 0.0034866 , 0.00376582, 0.00747094, 0.00354484,\n",
       "        0.00815885, 0.00634183, 0.01287592, 0.00390162, 0.00641308,\n",
       "        0.00705335, 0.0044842 , 0.00389227, 0.00774912, 0.00914308,\n",
       "        0.00815801]),\n",
       " 'mean_score_time': array([0.00376818, 0.0062006 , 0.00994587, 0.01256676, 0.0037369 ,\n",
       "        0.00692458, 0.01021411, 0.01345937, 0.00378683, 0.00652361,\n",
       "        0.00989237, 0.01268818, 0.00373051, 0.00720241, 0.00995595,\n",
       "        0.01255305]),\n",
       " 'std_score_time': array([0.00052644, 0.00040973, 0.00052005, 0.00063239, 0.00050485,\n",
       "        0.0007949 , 0.00090552, 0.00080683, 0.00039715, 0.00065141,\n",
       "        0.00072315, 0.00056949, 0.00064581, 0.00076653, 0.00063201,\n",
       "        0.00063485]),\n",
       " 'param_max_depth': masked_array(data=[2, 2, 2, 2, 5, 5, 5, 5, 8, 8, 8, 8, 10, 10, 10, 10],\n",
       "              mask=[False, False, False, False, False, False, False, False,\n",
       "                    False, False, False, False, False, False, False, False],\n",
       "        fill_value='?',\n",
       "             dtype=object),\n",
       " 'param_n_estimators': masked_array(data=[50, 100, 150, 200, 50, 100, 150, 200, 50, 100, 150,\n",
       "                    200, 50, 100, 150, 200],\n",
       "              mask=[False, False, False, False, False, False, False, False,\n",
       "                    False, False, False, False, False, False, False, False],\n",
       "        fill_value='?',\n",
       "             dtype=object),\n",
       " 'params': [{'max_depth': 2, 'n_estimators': 50},\n",
       "  {'max_depth': 2, 'n_estimators': 100},\n",
       "  {'max_depth': 2, 'n_estimators': 150},\n",
       "  {'max_depth': 2, 'n_estimators': 200},\n",
       "  {'max_depth': 5, 'n_estimators': 50},\n",
       "  {'max_depth': 5, 'n_estimators': 100},\n",
       "  {'max_depth': 5, 'n_estimators': 150},\n",
       "  {'max_depth': 5, 'n_estimators': 200},\n",
       "  {'max_depth': 8, 'n_estimators': 50},\n",
       "  {'max_depth': 8, 'n_estimators': 100},\n",
       "  {'max_depth': 8, 'n_estimators': 150},\n",
       "  {'max_depth': 8, 'n_estimators': 200},\n",
       "  {'max_depth': 10, 'n_estimators': 50},\n",
       "  {'max_depth': 10, 'n_estimators': 100},\n",
       "  {'max_depth': 10, 'n_estimators': 150},\n",
       "  {'max_depth': 10, 'n_estimators': 200}],\n",
       " 'split0_test_score': array([0.83333333, 0.83333333, 0.83333333, 0.83333333, 0.83333333,\n",
       "        0.83333333, 0.83333333, 0.83333333, 0.75      , 0.83333333,\n",
       "        0.83333333, 0.83333333, 0.83333333, 0.83333333, 0.83333333,\n",
       "        0.83333333]),\n",
       " 'split1_test_score': array([0.81818182, 0.81818182, 0.81818182, 0.81818182, 0.81818182,\n",
       "        0.81818182, 0.81818182, 0.81818182, 0.81818182, 0.81818182,\n",
       "        0.81818182, 0.81818182, 0.81818182, 0.81818182, 0.81818182,\n",
       "        0.81818182]),\n",
       " 'split2_test_score': array([0.81818182, 0.81818182, 0.81818182, 0.81818182, 0.81818182,\n",
       "        0.81818182, 0.81818182, 0.81818182, 0.81818182, 0.81818182,\n",
       "        0.81818182, 0.81818182, 0.81818182, 0.81818182, 0.81818182,\n",
       "        0.81818182]),\n",
       " 'split3_test_score': array([0.72727273, 0.72727273, 0.72727273, 0.72727273, 0.72727273,\n",
       "        0.72727273, 0.72727273, 0.72727273, 0.72727273, 0.72727273,\n",
       "        0.72727273, 0.72727273, 0.63636364, 0.72727273, 0.72727273,\n",
       "        0.72727273]),\n",
       " 'split4_test_score': array([0.81818182, 0.81818182, 0.81818182, 0.81818182, 0.81818182,\n",
       "        0.81818182, 0.81818182, 0.81818182, 0.81818182, 0.81818182,\n",
       "        0.81818182, 0.81818182, 0.81818182, 0.81818182, 0.81818182,\n",
       "        0.81818182]),\n",
       " 'split5_test_score': array([0.81818182, 0.81818182, 0.81818182, 0.81818182, 0.81818182,\n",
       "        0.81818182, 0.81818182, 0.81818182, 0.81818182, 0.81818182,\n",
       "        0.81818182, 0.81818182, 0.72727273, 0.81818182, 0.81818182,\n",
       "        0.81818182]),\n",
       " 'split6_test_score': array([0.81818182, 0.81818182, 0.81818182, 0.81818182, 0.72727273,\n",
       "        0.72727273, 0.72727273, 0.72727273, 0.72727273, 0.72727273,\n",
       "        0.63636364, 0.63636364, 0.72727273, 0.72727273, 0.63636364,\n",
       "        0.72727273]),\n",
       " 'split7_test_score': array([0.90909091, 0.90909091, 0.90909091, 0.90909091, 0.90909091,\n",
       "        0.90909091, 0.90909091, 0.90909091, 0.90909091, 0.90909091,\n",
       "        0.90909091, 0.90909091, 0.90909091, 0.90909091, 0.90909091,\n",
       "        0.90909091]),\n",
       " 'split8_test_score': array([0.81818182, 0.90909091, 0.90909091, 0.90909091, 0.81818182,\n",
       "        0.81818182, 0.81818182, 0.90909091, 0.72727273, 0.81818182,\n",
       "        0.81818182, 0.72727273, 0.72727273, 0.81818182, 0.81818182,\n",
       "        0.81818182]),\n",
       " 'split9_test_score': array([0.90909091, 0.90909091, 0.90909091, 0.90909091, 0.90909091,\n",
       "        0.90909091, 0.81818182, 0.90909091, 0.81818182, 0.90909091,\n",
       "        0.90909091, 0.90909091, 0.90909091, 0.90909091, 0.81818182,\n",
       "        0.90909091]),\n",
       " 'mean_test_score': array([0.82878788, 0.83787879, 0.83787879, 0.83787879, 0.81969697,\n",
       "        0.81969697, 0.81060606, 0.82878788, 0.79318182, 0.81969697,\n",
       "        0.81060606, 0.80151515, 0.79242424, 0.81969697, 0.80151515,\n",
       "        0.81969697]),\n",
       " 'std_test_score': array([0.04888565, 0.05422888, 0.05422888, 0.05422888, 0.05767535,\n",
       "        0.05767535, 0.04944597, 0.06358223, 0.05608619, 0.05767535,\n",
       "        0.0758333 , 0.07972922, 0.08244708, 0.05767535, 0.06858467,\n",
       "        0.05767535]),\n",
       " 'rank_test_score': array([ 4,  1,  1,  1,  6,  6, 11,  4, 15,  6, 11, 13, 16,  6, 13,  6])}"
      ]
     },
     "execution_count": 18,
     "metadata": {},
     "output_type": "execute_result"
    }
   ],
   "source": [
    "# grid scores\n",
    "grid_clf.cv_results_"
   ]
  },
  {
   "cell_type": "code",
   "execution_count": 19,
   "metadata": {},
   "outputs": [
    {
     "ename": "NameError",
     "evalue": "name 'make_score' is not defined",
     "output_type": "error",
     "traceback": [
      "\u001b[1;31m---------------------------------------------------------------------------\u001b[0m",
      "\u001b[1;31mNameError\u001b[0m                                 Traceback (most recent call last)",
      "\u001b[1;32m<ipython-input-19-066acd3a7a72>\u001b[0m in \u001b[0;36m<module>\u001b[1;34m\u001b[0m\n\u001b[1;32m----> 1\u001b[1;33m \u001b[0mscore\u001b[0m\u001b[1;33m=\u001b[0m\u001b[1;33m{\u001b[0m\u001b[1;34m\"AUC\"\u001b[0m\u001b[1;33m:\u001b[0m\u001b[1;34m\"roc_auc\"\u001b[0m\u001b[1;33m,\u001b[0m\u001b[1;34m\"ACC\"\u001b[0m\u001b[1;33m:\u001b[0m\u001b[0mmake_score\u001b[0m\u001b[1;33m(\u001b[0m\u001b[0maccuracy\u001b[0m\u001b[1;33m)\u001b[0m\u001b[1;33m}\u001b[0m\u001b[1;33m\u001b[0m\u001b[1;33m\u001b[0m\u001b[0m\n\u001b[0m",
      "\u001b[1;31mNameError\u001b[0m: name 'make_score' is not defined"
     ]
    }
   ],
   "source": [
    "score={\"AUC\":\"roc_auc\",\"ACC\":make_score(accuracy)}"
   ]
  }
 ],
 "metadata": {
  "kernelspec": {
   "display_name": "Python 3",
   "language": "python",
   "name": "python3"
  },
  "language_info": {
   "codemirror_mode": {
    "name": "ipython",
    "version": 3
   },
   "file_extension": ".py",
   "mimetype": "text/x-python",
   "name": "python",
   "nbconvert_exporter": "python",
   "pygments_lexer": "ipython3",
   "version": "3.8.5"
  }
 },
 "nbformat": 4,
 "nbformat_minor": 4
}
